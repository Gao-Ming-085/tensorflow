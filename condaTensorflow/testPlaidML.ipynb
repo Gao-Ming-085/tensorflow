{
 "cells": [
  {
   "cell_type": "code",
   "execution_count": 1,
   "id": "55482059",
   "metadata": {},
   "outputs": [
    {
     "name": "stderr",
     "output_type": "stream",
     "text": [
      "Using plaidml.keras.backend backend.\n",
      "Unable to revert mtime: /Library/Fonts\n",
      "2021-10-17 00:32:31.199 python[51230:764298] apply_selection_policy_once: prefer use of removable GPUs (via (null):GPUSelectionPolicy->preferRemovable)\n",
      "INFO:plaidml:Opening device \"metal_amd_radeon_rx_580.0\"\n"
     ]
    },
    {
     "name": "stdout",
     "output_type": "stream",
     "text": [
      "Train on 80000 samples, validate on 20000 samples\n",
      "Epoch 1/10\n",
      "80000/80000 [==============================] - 3s 32us/step - loss: 1218.1484 - val_loss: 2.6579\n",
      "Epoch 2/10\n",
      "80000/80000 [==============================] - 2s 27us/step - loss: 0.3126 - val_loss: 0.1103\n",
      "Epoch 3/10\n",
      "80000/80000 [==============================] - 2s 27us/step - loss: 0.1009 - val_loss: 0.0942\n",
      "Epoch 4/10\n",
      "80000/80000 [==============================] - 2s 27us/step - loss: 0.0877 - val_loss: 0.0824\n",
      "Epoch 5/10\n",
      "80000/80000 [==============================] - 2s 27us/step - loss: 0.0751 - val_loss: 0.0686\n",
      "Epoch 6/10\n",
      "80000/80000 [==============================] - 2s 27us/step - loss: 0.0609 - val_loss: 0.0541\n",
      "Epoch 7/10\n",
      "80000/80000 [==============================] - 2s 28us/step - loss: 0.0468 - val_loss: 0.0399\n",
      "Epoch 8/10\n",
      "80000/80000 [==============================] - 2s 27us/step - loss: 0.0330 - val_loss: 0.0267\n",
      "Epoch 9/10\n",
      "80000/80000 [==============================] - 2s 27us/step - loss: 0.0212 - val_loss: 0.0164\n",
      "Epoch 10/10\n",
      "80000/80000 [==============================] - 2s 27us/step - loss: 0.0125 - val_loss: 0.0096\n"
     ]
    },
    {
     "data": {
      "image/png": "[encoded data removed]",
      "text/plain": [
       "<Figure size 432x288 with 1 Axes>"
      ]
     },
     "metadata": {
      "needs_background": "light"
     },
     "output_type": "display_data"
    }
   ],
   "source": [
    "import numpy as np\n",
    "from os import environ\n",
    "environ[\"KERAS_BACKEND\"] = \"plaidml.keras.backend\"\n",
    "import keras\n",
    "from keras.layers import Dense\n",
    "from matplotlib import pyplot as plt\n",
    "#Plaidml:https://github.com/plaidml/plaidml\n",
    "# Params\n",
    "num_samples = 100000; vect_len = 20; max_int = 10; min_int = 1;\n",
    "\n",
    "# Generate dataset\n",
    "X = np.random.randint(min_int, max_int, (num_samples, vect_len))\n",
    "Y = np.sum(X, axis=1)\n",
    "\n",
    "# Get 80% of data for training\n",
    "split_idx = int(0.8 * len(Y))\n",
    "train_X = X[:split_idx, :]; test_X = X[split_idx:, :]\n",
    "train_Y = Y[:split_idx]; test_Y = Y[split_idx:]\n",
    "\n",
    "# Make model\n",
    "model = keras.models.Sequential()\n",
    "model.add(keras.layers.Dense(32, activation='relu', input_shape=(vect_len,)))\n",
    "model.add(keras.layers.Dense(1))\n",
    "model.compile('adam', 'mse')\n",
    "\n",
    "history = model.fit(train_X, train_Y, validation_data=(test_X, test_Y), \\\n",
    "                    epochs=10, batch_size=100)\n",
    "\n",
    "# summarize history\n",
    "plt.plot(history.history['loss'])\n",
    "plt.plot(history.history['val_loss'])\n",
    "plt.title('model loss')\n",
    "plt.ylabel('loss')\n",
    "plt.xlabel('epoch')\n",
    "plt.legend(['train', 'test'], loc='upper left')\n",
    "plt.show()"
   ]
  }
 ],
 "metadata": {
  "kernelspec": {
   "display_name": "Python 3.8 (tensorflow)",
   "language": "python",
   "name": "tensorflow"
  },
  "language_info": {
   "codemirror_mode": {
    "name": "ipython",
    "version": 3
   },
   "file_extension": ".py",
   "mimetype": "text/x-python",
   "name": "python",
   "nbconvert_exporter": "python",
   "pygments_lexer": "ipython3",
   "version": "3.8.12"
  }
 },
 "nbformat": 4,
 "nbformat_minor": 5
}
